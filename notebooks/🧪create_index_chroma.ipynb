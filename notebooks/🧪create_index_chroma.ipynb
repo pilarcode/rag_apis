{
 "cells": [
  {
   "cell_type": "code",
   "execution_count": 1,
   "metadata": {},
   "outputs": [],
   "source": [
    "%load_ext autoreload\n",
    "%autoreload 2"
   ]
  },
  {
   "cell_type": "code",
   "execution_count": 2,
   "metadata": {},
   "outputs": [],
   "source": [
    "import sys\n",
    "import os\n",
    "sys.path.append(\"../src/mrag\")\n",
    "sys.path.append(\"../src/mrag/utils\")\n",
    "\n",
    "from llm_instances import get_embeddings_instance\n",
    "from vector_store import VectorIndex\n",
    "from doc_loader import Loader"
   ]
  },
  {
   "cell_type": "markdown",
   "metadata": {},
   "source": [
    "# Embedding function\n"
   ]
  },
  {
   "cell_type": "code",
   "execution_count": 3,
   "metadata": {},
   "outputs": [],
   "source": [
    "embedding_function = get_embeddings_instance()"
   ]
  },
  {
   "cell_type": "markdown",
   "metadata": {},
   "source": [
    "# Paths"
   ]
  },
  {
   "cell_type": "code",
   "execution_count": 4,
   "metadata": {},
   "outputs": [],
   "source": [
    "JSON_PATHS = \"../app/scenario/jsons/\"\n",
    "SPECS_PATHS = \"../app/scenario/specs/\""
   ]
  },
  {
   "cell_type": "markdown",
   "metadata": {},
   "source": [
    "# Cargar documentos"
   ]
  },
  {
   "cell_type": "code",
   "execution_count": 5,
   "metadata": {},
   "outputs": [
    {
     "name": "stdout",
     "output_type": "stream",
     "text": [
      "Docs loades 9\n"
     ]
    }
   ],
   "source": [
    "load = Loader(docs_path=JSON_PATHS, specs_path=SPECS_PATHS)\n",
    "docs = load.extract_docs()\n",
    "print(\"Docs loades\", len(docs))"
   ]
  },
  {
   "cell_type": "markdown",
   "metadata": {},
   "source": [
    "# Crear el indice con Chroma"
   ]
  },
  {
   "cell_type": "code",
   "execution_count": 6,
   "metadata": {},
   "outputs": [],
   "source": [
    "VECTOR_INDEX_PATH = \"../app/scenario/chroma/\"\n",
    "VECTOR_DB_TYPE = \"chroma\""
   ]
  },
  {
   "cell_type": "code",
   "execution_count": 7,
   "metadata": {},
   "outputs": [],
   "source": [
    "vector_index = VectorIndex(\n",
    "    docs,\n",
    "    index_path=VECTOR_INDEX_PATH,\n",
    "    embedding_function=embedding_function,\n",
    ")"
   ]
  },
  {
   "cell_type": "code",
   "execution_count": 8,
   "metadata": {},
   "outputs": [
    {
     "name": "stdout",
     "output_type": "stream",
     "text": [
      "Docs in the vector store: 9\n"
     ]
    }
   ],
   "source": [
    "print(\"Docs in the vector store:\", vector_index.index._collection.count())"
   ]
  },
  {
   "cell_type": "code",
   "execution_count": 9,
   "metadata": {},
   "outputs": [
    {
     "name": "stdout",
     "output_type": "stream",
     "text": [
      "9\n"
     ]
    }
   ],
   "source": [
    "index_docs = vector_index.index._collection.get()[\"documents\"]\n",
    "print(len(index_docs))"
   ]
  },
  {
   "cell_type": "code",
   "execution_count": 10,
   "metadata": {},
   "outputs": [
    {
     "data": {
      "text/plain": [
       "[\"{'summary': 'List all pets', 'url': '/pets', 'operationId': 'listPets', 'http_method': 'get', 'country': 'br', 'parameters': [{'name': 'limit', 'in': 'query', 'description': 'How many items to return at one time (max 100)', 'required': False, 'schema': {'type': 'integer', 'maximum': 100, 'format': 'int32'}}]}\",\n",
       " \"{'summary': 'Info for a specific pet', 'url': '/pets/{petId}', 'operationId': 'showPetById', 'http_method': 'get', 'country': 'br', 'parameters': [{'name': 'petId', 'in': 'path', 'required': True, 'description': 'The id of the pet to retrieve', 'schema': {'type': 'string'}}]}\",\n",
       " \"{'summary': 'Create a pet', 'url': '/pets', 'operationId': 'createPets', 'http_method': 'post', 'country': 'br', 'parameters': None}\",\n",
       " \"{'summary': 'List all pets', 'url': '/pets', 'operationId': 'listPets', 'http_method': 'get', 'country': 'core', 'parameters': [{'name': 'limit', 'in': 'query', 'description': 'How many items to return at one time (max 100)', 'required': False, 'schema': {'type': 'integer', 'maximum': 100, 'format': 'int32'}}]}\",\n",
       " \"{'summary': 'Info for a specific pet', 'url': '/pets/{petId}', 'operationId': 'showPetById', 'http_method': 'get', 'country': 'core', 'parameters': [{'name': 'petId', 'in': 'path', 'required': True, 'description': 'The id of the pet to retrieve', 'schema': {'type': 'string'}}]}\",\n",
       " \"{'summary': 'Create a pet', 'url': '/pets', 'operationId': 'createPets', 'http_method': 'post', 'country': 'core', 'parameters': None}\",\n",
       " \"{'summary': 'List all pets', 'url': '/pets', 'operationId': 'listPets', 'http_method': 'get', 'country': 'mx', 'parameters': [{'name': 'limit', 'in': 'query', 'description': 'How many items to return at one time (max 100)', 'required': False, 'schema': {'type': 'integer', 'maximum': 100, 'format': 'int32'}}]}\",\n",
       " \"{'summary': 'Info for a specific pet', 'url': '/pets/{petId}', 'operationId': 'showPetById', 'http_method': 'get', 'country': 'mx', 'parameters': [{'name': 'petId', 'in': 'path', 'required': True, 'description': 'The id of the pet to retrieve', 'schema': {'type': 'string'}}]}\",\n",
       " \"{'summary': 'Create a pet', 'url': '/pets', 'operationId': 'createPets', 'http_method': 'post', 'country': 'mx', 'parameters': None}\"]"
      ]
     },
     "execution_count": 10,
     "metadata": {},
     "output_type": "execute_result"
    }
   ],
   "source": [
    "index_docs"
   ]
  },
  {
   "cell_type": "code",
   "execution_count": 11,
   "metadata": {},
   "outputs": [
    {
     "name": "stdout",
     "output_type": "stream",
     "text": [
      "9\n"
     ]
    }
   ],
   "source": [
    "metadata = vector_index.index._collection.get()[\"metadatas\"]\n",
    "print(len(metadata))"
   ]
  },
  {
   "cell_type": "code",
   "execution_count": 12,
   "metadata": {},
   "outputs": [
    {
     "data": {
      "text/plain": [
       "[{'source': 'br_petstore.yaml'},\n",
       " {'source': 'br_petstore.yaml'},\n",
       " {'source': 'br_petstore.yaml'},\n",
       " {'source': 'core_petstore.yaml'},\n",
       " {'source': 'core_petstore.yaml'},\n",
       " {'source': 'core_petstore.yaml'},\n",
       " {'source': 'mx_petstore.yaml'},\n",
       " {'source': 'mx_petstore.yaml'},\n",
       " {'source': 'mx_petstore.yaml'}]"
      ]
     },
     "execution_count": 12,
     "metadata": {},
     "output_type": "execute_result"
    }
   ],
   "source": [
    "metadata"
   ]
  }
 ],
 "metadata": {
  "kernelspec": {
   "display_name": "mrag",
   "language": "python",
   "name": "python3"
  },
  "language_info": {
   "codemirror_mode": {
    "name": "ipython",
    "version": 3
   },
   "file_extension": ".py",
   "mimetype": "text/x-python",
   "name": "python",
   "nbconvert_exporter": "python",
   "pygments_lexer": "ipython3",
   "version": "3.11.7"
  }
 },
 "nbformat": 4,
 "nbformat_minor": 2
}
