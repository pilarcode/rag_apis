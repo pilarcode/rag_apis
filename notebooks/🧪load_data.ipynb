{
 "cells": [
  {
   "cell_type": "code",
   "execution_count": 1,
   "metadata": {},
   "outputs": [],
   "source": [
    "%load_ext autoreload\n",
    "%autoreload 2"
   ]
  },
  {
   "cell_type": "code",
   "execution_count": 2,
   "metadata": {},
   "outputs": [],
   "source": [
    "import sys\n",
    "import os\n",
    "sys.path.append(\"../src/mrag\")\n",
    "sys.path.append(\"../src/mrag/utils\")\n",
    "\n",
    "from llm_instances import get_embeddings_instance, get_llm_instance\n",
    "from vector_store import VectorIndex\n",
    "from doc_loader import Loader"
   ]
  },
  {
   "cell_type": "markdown",
   "metadata": {},
   "source": [
    "# Paths"
   ]
  },
  {
   "cell_type": "code",
   "execution_count": 3,
   "metadata": {},
   "outputs": [],
   "source": [
    "JSON_PATHS = \"../app/scenario/jsons/\"\n",
    "SPECS_PATHS = \"../app/scenario/specs/\""
   ]
  },
  {
   "cell_type": "markdown",
   "metadata": {},
   "source": [
    "# Cargar documentos"
   ]
  },
  {
   "cell_type": "code",
   "execution_count": 4,
   "metadata": {},
   "outputs": [],
   "source": [
    "load = Loader(docs_path=JSON_PATHS, specs_path=SPECS_PATHS)\n"
   ]
  },
  {
   "cell_type": "code",
   "execution_count": 5,
   "metadata": {},
   "outputs": [
    {
     "data": {
      "text/plain": [
       "'../app/scenario/jsons/'"
      ]
     },
     "execution_count": 5,
     "metadata": {},
     "output_type": "execute_result"
    }
   ],
   "source": [
    "load.docs_path"
   ]
  },
  {
   "cell_type": "code",
   "execution_count": 6,
   "metadata": {},
   "outputs": [
    {
     "name": "stdout",
     "output_type": "stream",
     "text": [
      "Docs loades 9\n"
     ]
    }
   ],
   "source": [
    "docs = load.extract_docs()\n",
    "print(\"Docs loades\", len(docs))"
   ]
  },
  {
   "cell_type": "code",
   "execution_count": 7,
   "metadata": {},
   "outputs": [
    {
     "data": {
      "text/plain": [
       "[Document(page_content=\"{'summary': 'List all pets', 'url': '/pets', 'operationId': 'listPets', 'http_method': 'get', 'country': 'br', 'parameters': [{'name': 'limit', 'in': 'query', 'description': 'How many items to return at one time (max 100)', 'required': False, 'schema': {'type': 'integer', 'maximum': 100, 'format': 'int32'}}]}\", metadata={'source': 'br_petstore.yaml'}),\n",
       " Document(page_content=\"{'summary': 'Info for a specific pet', 'url': '/pets/{petId}', 'operationId': 'showPetById', 'http_method': 'get', 'country': 'br', 'parameters': [{'name': 'petId', 'in': 'path', 'required': True, 'description': 'The id of the pet to retrieve', 'schema': {'type': 'string'}}]}\", metadata={'source': 'br_petstore.yaml'}),\n",
       " Document(page_content=\"{'summary': 'Create a pet', 'url': '/pets', 'operationId': 'createPets', 'http_method': 'post', 'country': 'br', 'parameters': None}\", metadata={'source': 'br_petstore.yaml'}),\n",
       " Document(page_content=\"{'summary': 'List all pets', 'url': '/pets', 'operationId': 'listPets', 'http_method': 'get', 'country': 'core', 'parameters': [{'name': 'limit', 'in': 'query', 'description': 'How many items to return at one time (max 100)', 'required': False, 'schema': {'type': 'integer', 'maximum': 100, 'format': 'int32'}}]}\", metadata={'source': 'core_petstore.yaml'}),\n",
       " Document(page_content=\"{'summary': 'Info for a specific pet', 'url': '/pets/{petId}', 'operationId': 'showPetById', 'http_method': 'get', 'country': 'core', 'parameters': [{'name': 'petId', 'in': 'path', 'required': True, 'description': 'The id of the pet to retrieve', 'schema': {'type': 'string'}}]}\", metadata={'source': 'core_petstore.yaml'}),\n",
       " Document(page_content=\"{'summary': 'Create a pet', 'url': '/pets', 'operationId': 'createPets', 'http_method': 'post', 'country': 'core', 'parameters': None}\", metadata={'source': 'core_petstore.yaml'}),\n",
       " Document(page_content=\"{'summary': 'List all pets', 'url': '/pets', 'operationId': 'listPets', 'http_method': 'get', 'country': 'mx', 'parameters': [{'name': 'limit', 'in': 'query', 'description': 'How many items to return at one time (max 100)', 'required': False, 'schema': {'type': 'integer', 'maximum': 100, 'format': 'int32'}}]}\", metadata={'source': 'mx_petstore.yaml'}),\n",
       " Document(page_content=\"{'summary': 'Info for a specific pet', 'url': '/pets/{petId}', 'operationId': 'showPetById', 'http_method': 'get', 'country': 'mx', 'parameters': [{'name': 'petId', 'in': 'path', 'required': True, 'description': 'The id of the pet to retrieve', 'schema': {'type': 'string'}}]}\", metadata={'source': 'mx_petstore.yaml'}),\n",
       " Document(page_content=\"{'summary': 'Create a pet', 'url': '/pets', 'operationId': 'createPets', 'http_method': 'post', 'country': 'mx', 'parameters': None}\", metadata={'source': 'mx_petstore.yaml'})]"
      ]
     },
     "execution_count": 7,
     "metadata": {},
     "output_type": "execute_result"
    }
   ],
   "source": [
    "docs"
   ]
  },
  {
   "cell_type": "markdown",
   "metadata": {},
   "source": []
  }
 ],
 "metadata": {
  "kernelspec": {
   "display_name": "mrag",
   "language": "python",
   "name": "python3"
  },
  "language_info": {
   "codemirror_mode": {
    "name": "ipython",
    "version": 3
   },
   "file_extension": ".py",
   "mimetype": "text/x-python",
   "name": "python",
   "nbconvert_exporter": "python",
   "pygments_lexer": "ipython3",
   "version": "3.11.7"
  }
 },
 "nbformat": 4,
 "nbformat_minor": 2
}
